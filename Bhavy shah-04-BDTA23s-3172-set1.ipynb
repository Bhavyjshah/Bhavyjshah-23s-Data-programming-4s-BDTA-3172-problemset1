{
 "cells": [
  {
   "cell_type": "markdown",
   "id": "70a94a05",
   "metadata": {},
   "source": [
    "// What data type is each of the following?//\n",
    "\"5 - Integer (int)\\n\",\n",
    "    \"5.0 - Floating-point number (double)\\n\",\n",
    "    \"5 > 1 - Boolean (bool)\\n\",\n",
    "    \"'5' - Character (char)\\n\",\n",
    "    \"5 * 2 - Integer (int)\\n\",\n",
    "    \"'5' * 2 - String (string)\\n\",\n",
    "    \"'5' + '2' - String (string)\\n\",\n",
    "    \"5 / 2 - Floating-point number (double)\\n\",\n",
    "    \"5 % 2 - Integer (int)\\n\",\n",
    "    \"{5, 2, 1} - Array of integers (int[])\\n\",\n",
    "    \"5 == 3 - Boolean (bool)\\n\",\n",
    "    \"Pi (the number) - Floating-point number (double)\""
   ]
  },
  {
   "cell_type": "markdown",
   "id": "36d53e21",
   "metadata": {},
   "source": [
    "Q2: \n",
    "a:How many letters are there in 'Supercalifragilisticexpialidocious'?"
   ]
  },
  {
   "cell_type": "markdown",
   "id": "a0cca526",
   "metadata": {},
   "source": [
    "string word = \"Supercalifragilisticexpialidocious\";\n",
    "int NumberofLetters = word.Length;\n",
    "Console.WriteLine(\"Number of letters: \" + NumberofLetters);"
   ]
  },
  {
   "attachments": {},
   "cell_type": "markdown",
   "id": "672f8816",
   "metadata": {},
   "source": [
    "Number of letters: 34"
   ]
  },
  {
   "cell_type": "markdown",
   "id": "83f8e0f6",
   "metadata": {},
   "source": [
    "b:Does 'Supercalifragilisticexpialidocious' contain 'ice' as a substring?"
   ]
  },
  {
   "cell_type": "markdown",
   "id": "4fe46a80",
   "metadata": {},
   "source": [
    "string word = \"Supercalifragilisticexpialidocious\";\n",
    "bool containsSubstring = word.Contains(\"ice\");\n",
    "Console.WriteLine(\" Does 'Supercalifragilisticexpialidocious' contain 'ice' as a substring? \" + containsSubstring);"
   ]
  },
  {
   "cell_type": "markdown",
   "id": "fc39fb24",
   "metadata": {},
   "source": [
    "Does 'Supercalifragilisticexpialidocious' contain 'ice' as a substring? True"
   ]
  },
  {
   "cell_type": "markdown",
   "id": "5888da66",
   "metadata": {},
   "source": [
    "c: Which of the following words is the longest: \n",
    "Supercalifragilisticexpialidocious, Honorificabilitudinitatibus, or \n",
    "Bababadalgharaghtakamminarronnkonn?"
   ]
  },
  {
   "cell_type": "markdown",
   "id": "4fbe1fea",
   "metadata": {},
   "source": [
    "using System;\n",
    "\n",
    "class Program\n",
    "{\n",
    "    static void Main()\n",
    "    {\n",
    "        string[] words = { \"Supercalifragilisticexpialidocious\", \"Honorificabilitudinitatibus\", \"Bababadalgharaghtakamminarronnkonn\" };\n",
    "\n",
    "        string longestWord = FindLongestWord(words);\n",
    "\n",
    "        Console.WriteLine(\"The longest word is: \" + longestWord);\n",
    "    }\n",
    "\n",
    "    static string FindLongestWord(string[] words)\n",
    "    {\n",
    "        string longestWord = \"\";\n",
    "        int maxLength = 0;\n",
    "\n",
    "        foreach (string word in words)\n",
    "        {\n",
    "            if (word.Length > maxLength)\n",
    "            {\n",
    "                maxLength = word.Length;\n",
    "                longestWord = word;\n",
    "            }\n",
    "        }\n",
    "\n",
    "        return longestWord;\n",
    "    }\n",
    "}"
   ]
  },
  {
   "cell_type": "markdown",
   "id": "26cb1f6c",
   "metadata": {},
   "source": [
    "The longest word is: Supercalifragilisticexpialidocious"
   ]
  },
  {
   "cell_type": "markdown",
   "id": "b71745c3",
   "metadata": {},
   "source": [
    "d:"
   ]
  },
  {
   "cell_type": "markdown",
   "id": "dd7a6bb1",
   "metadata": {},
   "source": [
    "using System;\n",
    "\n",
    "class Program\n",
    "{\n",
    "    static void Main()\n",
    "    {\n",
    "        string[] composers = { \"Berlioz\", \"Borodin\", \"Brian\", \"Bartok\", \"Bellini\", \"Buxtehude\", \"Bernstein\" };\n",
    "\n",
    "        string firstComposer = FindFirstComposer(composers);\n",
    "        string lastComposer = FindLastComposer(composers);\n",
    "\n",
    "        Console.WriteLine(\"First composer: \" + firstComposer);\n",
    "        Console.WriteLine(\"Last composer: \" + lastComposer);\n",
    "    }\n",
    "\n",
    "    static string FindFirstComposer(string[] composers)\n",
    "    {\n",
    "        Array.Sort(composers);\n",
    "        return composers[0];\n",
    "    }\n",
    "\n",
    "    static string FindLastComposer(string[] composers)\n",
    "    {\n",
    "        Array.Sort(composers);\n",
    "        return composers[composers.Length - 1];\n",
    "    }\n",
    "}"
   ]
  },
  {
   "cell_type": "markdown",
   "id": "fd7aad14",
   "metadata": {},
   "source": [
    "First composer: Bartok\n",
    "Last composer: Buxtehude"
   ]
  },
  {
   "cell_type": "markdown",
   "id": "53d2dc04",
   "metadata": {},
   "source": [
    "Q3: Implement function triangleArea(a,b,c) that takes as input the lengths of the 3\n",
    "sides of a triangle and returns the area of the triangle. By Heron's formula, the area \n",
    "of a triangle with side lengths a, b, and c is\n",
    "s(s - a)(s -b)(s -c)\n",
    ", where \n",
    "s = (a+b+c)/2. \n",
    ">>> triangleArea(2,2,2)\n",
    "1.7320508075688772\n"
   ]
  },
  {
   "cell_type": "markdown",
   "id": "e7fd9e03",
   "metadata": {},
   "source": [
    "using System;\n",
    "\n",
    "class Program\n",
    "{\n",
    "    static void Main()\n",
    "    {\n",
    "        double area = triangleArea(2, 2, 2);\n",
    "        Console.WriteLine(area);\n",
    "    }\n",
    "\n",
    "    static double triangleArea(double a, double b, double c)\n",
    "    {\n",
    "        double s = (a + b + c) / 2;\n",
    "        double area = Math.Sqrt(s * (s - a) * (s - b) * (s - c));\n",
    "        return area;\n",
    "    }\n",
    "}"
   ]
  },
  {
   "cell_type": "markdown",
   "id": "1b990615",
   "metadata": {},
   "source": [
    "1.7320508075688772"
   ]
  },
  {
   "cell_type": "markdown",
   "id": "8eaa1fe0",
   "metadata": {},
   "source": [
    "Write a program in C# Sharp to separate odd and even integers in separate arrays. \n",
    "Go to the editor\n",
    "Test Data :\n",
    "Input the number of elements to be stored in the array :5\n",
    "Input 5 elements in the array :\n",
    "element - 0 : 25\n",
    "element - 1 : 47\n",
    "element - 2 : 42\n",
    "element - 3 : 56\n",
    "element - 4 : 32\n",
    "Expected Output:\n",
    "The Even elements are:\n",
    "42 56 32\n",
    "The Odd elements are :\n",
    "25 47\n"
   ]
  },
  {
   "cell_type": "markdown",
   "id": "00895d73",
   "metadata": {},
   "source": []
  },
  {
   "cell_type": "markdown",
   "id": "8a005d59",
   "metadata": {},
   "source": [
    "using System;\n",
    "\n",
    "class Program\n",
    "{\n",
    "    static void Main()\n",
    "    {\n",
    "        Console.Write(\"Input the number of elements to be stored in the array: \");\n",
    "        int size = int.Parse(Console.ReadLine());\n",
    "\n",
    "        int[] numbers = new int[size];\n",
    "\n",
    "        Console.WriteLine(\"Input {0} elements in the array:\", size);\n",
    "        for (int i = 0; i < size; i++)\n",
    "        {\n",
    "            Console.Write(\"Element - {0}: \", i);\n",
    "            numbers[i] = int.Parse(Console.ReadLine());\n",
    "        }\n",
    "\n",
    "        int[] evenArray = new int[size];\n",
    "        int[] oddArray = new int[size];\n",
    "        int evenCount = 0;\n",
    "        int oddCount = 0;\n",
    "\n",
    "        foreach (int num in numbers)\n",
    "        {\n",
    "            if (num % 2 == 0)\n",
    "            {\n",
    "                evenArray[evenCount] = num;\n",
    "                evenCount++;\n",
    "            }\n",
    "            else\n",
    "            {\n",
    "                oddArray[oddCount] = num;\n",
    "                oddCount++;\n",
    "            }\n",
    "        }\n",
    "\n",
    "        Console.Write(\"The Even elements are: \");\n",
    "        for (int i = 0; i < evenCount; i++)\n",
    "        {\n",
    "            Console.Write(evenArray[i] + \" \");\n",
    "        }\n",
    "        Console.WriteLine();\n",
    "\n",
    "        Console.Write(\"The Odd elements are: \");\n",
    "        for (int i = 0; i < oddCount; i++)\n",
    "        {\n",
    "            Console.Write(oddArray[i] + \" \");\n",
    "        }\n",
    "        Console.WriteLine();\n",
    "    }\n",
    "}"
   ]
  },
  {
   "cell_type": "markdown",
   "id": "43b974d2",
   "metadata": {},
   "source": [
    "Input the number of elements to be stored in the array :5 Input 5 elements in the array : element - 0 : 25 element - 1 : 47 element - 2 : 42 element - 3 : 56 element - 4 : 32 The Even elements are: 42 56 32 The Odd elements are : 25 47"
   ]
  },
  {
   "cell_type": "markdown",
   "id": "218dfedc",
   "metadata": {},
   "source": [
    "Write a function inside(x,y,x1,y1,x2,y2) that returns True or False \n",
    "depending on whether the point (x,y) lies in the rectangle with lower left \n",
    "corner (x1,y1) and upper right corner (x2,y2).\n",
    ">>> inside(1,1,0,0,2,3)\n",
    "True\n",
    ">>> inside(-1,-1,0,0,2,3)\n",
    "False\n",
    "\n",
    "using System;\n",
    "\n",
    "class Program\n",
    "{\n",
    "    static void Main()\n",
    "    {\n",
    "        bool isInside1 = inside(1, 1, 0, 0, 2, 3);\n",
    "        Console.WriteLine(isInside1); // Output: True\n",
    "\n",
    "        bool isInside2 = inside(-1, -1, 0, 0, 2, 3);\n",
    "        Console.WriteLine(isInside2); // Output: False\n",
    "    }\n",
    "\n",
    "    static bool inside(int x, int y, int x1, int y1, int x2, int y2)\n",
    "    {\n",
    "        // Check if (x, y) lies within the rectangle's boundaries\n",
    "        return (x >= x1 && x <= x2 && y >= y1 && y <= y2);\n",
    "    }\n",
    "}\n",
    "\n",
    "\n",
    "\n"
   ]
  },
  {
   "cell_type": "markdown",
   "id": "5bc9602a",
   "metadata": {},
   "source": [
    "True\n",
    "False"
   ]
  },
  {
   "cell_type": "markdown",
   "id": "ff8659a2",
   "metadata": {},
   "source": [
    "False"
   ]
  },
  {
   "cell_type": "markdown",
   "id": "8c69883d",
   "metadata": {},
   "source": [
    "Q6:You can turn a word into pig-Latin using the following two rules (simplified):\n",
    "• If the word starts with a consonant, move that letter to the end and append \n",
    "'ay'. For example, 'happy' becomes 'appyhay' and 'pencil' becomes 'encilpay'.\n",
    "• If the word starts with a vowel, simply append 'way' to the end of the word. \n",
    "For example, 'enter' becomes 'enterway' and 'other' becomes 'otherway' . For \n",
    "our purposes, there are 5 vowels: a, e, i, o, u (so we count y as a consonant).\n",
    "Write a function pig() that takes a word (i.e., a string) as input and returns its pig\u0002Latin form. Your function should still work if the input word contains upper case \n",
    "characters. Your output should always be lower case however. \n",
    ">>> pig('happy')\n",
    "'appyhay'\n",
    ">>> pig('Enter')\n",
    "'enterway'"
   ]
  },
  {
   "cell_type": "code",
   "execution_count": 35,
   "id": "06569cf7",
   "metadata": {},
   "outputs": [
    {
     "name": "stdout",
     "output_type": "stream",
     "text": [
      "appyhay\n"
     ]
    }
   ],
   "source": [
    "def pig(word):\n",
    "    word = word.lower()  # Convert the word to lowercase\n",
    "    \n",
    "    vowels = ['a', 'e', 'i', 'o', 'u']\n",
    "    \n",
    "    if word[0] in vowels:\n",
    "        return word + 'way'\n",
    "    else:\n",
    "        return word[1:] + word[0] + 'ay'\n",
    "\n",
    "\n",
    "print(pig('happy'))  \n"
   ]
  },
  {
   "cell_type": "code",
   "execution_count": 36,
   "id": "c1669d2d",
   "metadata": {},
   "outputs": [
    {
     "name": "stdout",
     "output_type": "stream",
     "text": [
      "enterway\n"
     ]
    }
   ],
   "source": [
    "def pig(word):\n",
    "    word = word.lower()  # Convert the word to lowercase\n",
    "    \n",
    "    vowels = ['a', 'e', 'i', 'o', 'u']\n",
    "    \n",
    "    if word[0] in vowels:\n",
    "        return word + 'way'\n",
    "    else:\n",
    "        return word[1:] + word[0] + 'ay'\n",
    "\n",
    "\n",
    "print(pig('Enter'))  "
   ]
  },
  {
   "cell_type": "markdown",
   "id": "f3d44c24",
   "metadata": {},
   "source": [
    "Q7:"
   ]
  },
  {
   "cell_type": "markdown",
   "id": "e823137a",
   "metadata": {},
   "source": [
    "File bloodtype1.txt records blood-types of patients (A, B, AB, O or OO) at a clinic. \n",
    "Write a function bldcount() that reads the file with name name and reports (i.e., \n",
    "prints) how many patients there are in each bloodtype.\n",
    ">>> bldcount('bloodtype.txt')\n",
    "There are 10 patients of blood type A.\n",
    "There is one patient of blood type B.\n",
    "There are 10 patients of blood type AB.\n",
    "There are 12 patients of blood type O.\n",
    "There are no patients of blood type OO."
   ]
  },
  {
   "cell_type": "code",
   "execution_count": 67,
   "id": "95d41bc8",
   "metadata": {},
   "outputs": [
    {
     "ename": "IndentationError",
     "evalue": "unindent does not match any outer indentation level (<tokenize>, line 37)",
     "output_type": "error",
     "traceback": [
      "\u001b[1;36m  File \u001b[1;32m<tokenize>:37\u001b[1;36m\u001b[0m\n\u001b[1;33m    print(f'type A : {A}')\u001b[0m\n\u001b[1;37m    ^\u001b[0m\n\u001b[1;31mIndentationError\u001b[0m\u001b[1;31m:\u001b[0m unindent does not match any outer indentation level\n"
     ]
    }
   ],
   "source": [
    "def bldcount(name: str):\n",
    "    \n",
    "    A = 0\n",
    "    B = 0\n",
    "    AB = 0\n",
    "    O = 0\n",
    "    OO = 0\n",
    "       \n",
    " # Open the file for reading\n",
    "\n",
    "    with open(name, 'r') as file:\n",
    "                   \n",
    "  # Read each line in the file\n",
    "\n",
    "        line = file.readline()\n",
    "        \n",
    " # Extract the blood type from the line\n",
    " \n",
    "    bloodGroups = line.split()\n",
    "              \n",
    "# Increment the count for the corresponding blood type\n",
    "for bloodGroupType in bloodGroups:\n",
    "        if bloodGroupType == 'A':\n",
    "            A+=1\n",
    "        elif bloodGroupType == 'B':\n",
    "            B+=1\n",
    "        elif bloodGroupType == 'AB':\n",
    "            AB+=1\n",
    "        elif bloodGroupType == 'O':\n",
    "            O+=1\n",
    "        elif bloodGroupType == 'OO':\n",
    "            OO+=1 \n",
    "        \n",
    " # Print the blood type counts\n",
    "\n",
    "            \n",
    "    print(f'type A : {A}')\n",
    "    print(f'type B : {B}')\n",
    "    print(f'type AB : {AB}')\n",
    "    print(f'type O : {O}')\n",
    "    print(f'type OO : {OO}')\n",
    "    \n",
    "#Example\n",
    "\n",
    "file_name = 'bloodtype1.txt'\n",
    "bldcount(file_name)"
   ]
  },
  {
   "cell_type": "markdown",
   "id": "255ec8c1",
   "metadata": {},
   "source": [
    "Q8: Write a function curconv() that takes as input:\n",
    "1. a currency represented using a string (e.g., 'JPY' for the Japanese Yen or \n",
    "'EUR' for the Euro)\n",
    "2. an amount\n",
    "and then converts and returns the amount in US dollars.\n",
    ">>> curconv('EUR', 100)\n",
    "122.96544\n",
    ">>> curconv('JPY', 100)\n",
    "1.241401\n",
    "The currency rates you will need are stored in file currencies.txt:\n",
    "AUD 1.0345157 Australian Dollar\n",
    "CHF 1.0237414 Swiss Franc\n",
    "CNY 0.1550176 Chinese Yuan\n",
    " BDAT 1004 – Data Programming \n",
    "Page 5 of 6\n",
    "F2021\n",
    "BDAT 1004 Computer Studies\n",
    "DKK 0.1651442 Danish Krone\n",
    "EUR 1.2296544 Euro\n",
    "GBP 1.5550989 British Pound\n",
    "HKD 0.1270207 Hong Kong Dollar\n",
    "INR 0.0177643 Indian Rupee\n",
    "JPY 0.01241401 Japanese Yen\n",
    "MXN 0.0751848 Mexican Peso\n",
    "MYR 0.3145411 Malaysian Ringgit\n",
    "NOK 0.1677063 Norwegian Krone\n",
    "NZD 0.8003591 New Zealand Dollar\n",
    "PHP 0.0233234 Philippine Peso\n",
    "SEK 0.148269 Swedish Krona\n",
    "SGD 0.788871 Singapore Dollar\n",
    "THB 0.0313789 Thai Baht"
   ]
  },
  {
   "cell_type": "code",
   "execution_count": 57,
   "id": "bb9b5113",
   "metadata": {},
   "outputs": [
    {
     "name": "stdout",
     "output_type": "stream",
     "text": [
      "The amount in USD is: 1.241401\n",
      "The amount in USD is: 122.96544\n"
     ]
    }
   ],
   "source": [
    "def curconv(currency, amount):\n",
    "    exchange_rates = {\n",
    "        'JPY': 0.01241401,   # Example exchange rate for Japanese Yen\n",
    "        'EUR': 1.2296544,     # Example exchange rate for Euro\n",
    "        # Add more exchange rates here for other currencies\n",
    "    }\n",
    "\n",
    "    if currency in exchange_rates:\n",
    "        usd_amount = amount * exchange_rates[currency]\n",
    "        return usd_amount\n",
    "    else:\n",
    "        print(f\"Exchange rate for {currency} not found.\")\n",
    "        return None\n",
    "\n",
    "# Example usage\n",
    "amount_in_usd = curconv('JPY', 100)\n",
    "if amount_in_usd is not None:\n",
    "    print(f\"The amount in USD is: {amount_in_usd}\")\n",
    "amount_in_usd = curconv('EUR', 100)\n",
    "if amount_in_usd is not None:\n",
    "    print(f\"The amount in USD is: {amount_in_usd}\")"
   ]
  },
  {
   "cell_type": "markdown",
   "id": "d2819740",
   "metadata": {},
   "source": []
  },
  {
   "cell_type": "markdown",
   "id": "0a2d1189",
   "metadata": {},
   "source": [
    "Q9:Each of the following will cause an exception (an error). Identify what type of \n",
    "exception each will cause"
   ]
  },
  {
   "cell_type": "code",
   "execution_count": 58,
   "id": "f3a90bbc",
   "metadata": {},
   "outputs": [
    {
     "ename": "TypeError",
     "evalue": "unsupported operand type(s) for +: 'int' and 'str'",
     "output_type": "error",
     "traceback": [
      "\u001b[1;31m---------------------------------------------------------------------------\u001b[0m",
      "\u001b[1;31mTypeError\u001b[0m                                 Traceback (most recent call last)",
      "Cell \u001b[1;32mIn[58], line 1\u001b[0m\n\u001b[1;32m----> 1\u001b[0m result \u001b[38;5;241m=\u001b[39m \u001b[38;5;241;43m6\u001b[39;49m\u001b[43m \u001b[49m\u001b[38;5;241;43m+\u001b[39;49m\u001b[43m \u001b[49m\u001b[38;5;124;43m'\u001b[39;49m\u001b[38;5;124;43ma\u001b[39;49m\u001b[38;5;124;43m'\u001b[39;49m\n",
      "\u001b[1;31mTypeError\u001b[0m: unsupported operand type(s) for +: 'int' and 'str'"
     ]
    }
   ],
   "source": [
    "result = 6 + 'a'"
   ]
  },
  {
   "cell_type": "code",
   "execution_count": 59,
   "id": "a196c9c5",
   "metadata": {},
   "outputs": [
    {
     "ename": "IndexError",
     "evalue": "list index out of range",
     "output_type": "error",
     "traceback": [
      "\u001b[1;31m---------------------------------------------------------------------------\u001b[0m",
      "\u001b[1;31mIndexError\u001b[0m                                Traceback (most recent call last)",
      "Cell \u001b[1;32mIn[59], line 2\u001b[0m\n\u001b[0;32m      1\u001b[0m my_list \u001b[38;5;241m=\u001b[39m [\u001b[38;5;241m1\u001b[39m, \u001b[38;5;241m2\u001b[39m, \u001b[38;5;241m3\u001b[39m, \u001b[38;5;241m4\u001b[39m, \u001b[38;5;241m5\u001b[39m]\n\u001b[1;32m----> 2\u001b[0m item \u001b[38;5;241m=\u001b[39m \u001b[43mmy_list\u001b[49m\u001b[43m[\u001b[49m\u001b[38;5;241;43m12\u001b[39;49m\u001b[43m]\u001b[49m\n",
      "\u001b[1;31mIndexError\u001b[0m: list index out of range"
     ]
    }
   ],
   "source": [
    "my_list = [1, 2, 3, 4, 5]\n",
    "item = my_list[12]"
   ]
  },
  {
   "cell_type": "code",
   "execution_count": 60,
   "id": "f604b64b",
   "metadata": {},
   "outputs": [
    {
     "ename": "ValueError",
     "evalue": "math domain error",
     "output_type": "error",
     "traceback": [
      "\u001b[1;31m---------------------------------------------------------------------------\u001b[0m",
      "\u001b[1;31mValueError\u001b[0m                                Traceback (most recent call last)",
      "Cell \u001b[1;32mIn[60], line 2\u001b[0m\n\u001b[0;32m      1\u001b[0m \u001b[38;5;28;01mimport\u001b[39;00m \u001b[38;5;21;01mmath\u001b[39;00m\n\u001b[1;32m----> 2\u001b[0m result \u001b[38;5;241m=\u001b[39m \u001b[43mmath\u001b[49m\u001b[38;5;241;43m.\u001b[39;49m\u001b[43msqrt\u001b[49m\u001b[43m(\u001b[49m\u001b[38;5;241;43m-\u001b[39;49m\u001b[38;5;241;43m1.0\u001b[39;49m\u001b[43m)\u001b[49m\n",
      "\u001b[1;31mValueError\u001b[0m: math domain error"
     ]
    }
   ],
   "source": [
    "import math\n",
    "result = math.sqrt(-1.0)"
   ]
  },
  {
   "cell_type": "code",
   "execution_count": 61,
   "id": "4f480d4a",
   "metadata": {},
   "outputs": [
    {
     "ename": "NameError",
     "evalue": "name 'x' is not defined",
     "output_type": "error",
     "traceback": [
      "\u001b[1;31m---------------------------------------------------------------------------\u001b[0m",
      "\u001b[1;31mNameError\u001b[0m                                 Traceback (most recent call last)",
      "Cell \u001b[1;32mIn[61], line 1\u001b[0m\n\u001b[1;32m----> 1\u001b[0m \u001b[38;5;28mprint\u001b[39m(\u001b[43mx\u001b[49m)\n",
      "\u001b[1;31mNameError\u001b[0m: name 'x' is not defined"
     ]
    }
   ],
   "source": [
    "print(x)"
   ]
  },
  {
   "cell_type": "code",
   "execution_count": 62,
   "id": "f243a999",
   "metadata": {},
   "outputs": [
    {
     "ename": "FileNotFoundError",
     "evalue": "[Errno 2] No such file or directory: 'nonexistent.txt'",
     "output_type": "error",
     "traceback": [
      "\u001b[1;31m---------------------------------------------------------------------------\u001b[0m",
      "\u001b[1;31mFileNotFoundError\u001b[0m                         Traceback (most recent call last)",
      "Cell \u001b[1;32mIn[62], line 1\u001b[0m\n\u001b[1;32m----> 1\u001b[0m file \u001b[38;5;241m=\u001b[39m \u001b[38;5;28;43mopen\u001b[39;49m\u001b[43m(\u001b[49m\u001b[38;5;124;43m'\u001b[39;49m\u001b[38;5;124;43mnonexistent.txt\u001b[39;49m\u001b[38;5;124;43m'\u001b[39;49m\u001b[43m,\u001b[49m\u001b[43m \u001b[49m\u001b[38;5;124;43m'\u001b[39;49m\u001b[38;5;124;43mr\u001b[39;49m\u001b[38;5;124;43m'\u001b[39;49m\u001b[43m)\u001b[49m\n",
      "File \u001b[1;32m~\\anaconda3\\lib\\site-packages\\IPython\\core\\interactiveshell.py:282\u001b[0m, in \u001b[0;36m_modified_open\u001b[1;34m(file, *args, **kwargs)\u001b[0m\n\u001b[0;32m    275\u001b[0m \u001b[38;5;28;01mif\u001b[39;00m file \u001b[38;5;129;01min\u001b[39;00m {\u001b[38;5;241m0\u001b[39m, \u001b[38;5;241m1\u001b[39m, \u001b[38;5;241m2\u001b[39m}:\n\u001b[0;32m    276\u001b[0m     \u001b[38;5;28;01mraise\u001b[39;00m \u001b[38;5;167;01mValueError\u001b[39;00m(\n\u001b[0;32m    277\u001b[0m         \u001b[38;5;124mf\u001b[39m\u001b[38;5;124m\"\u001b[39m\u001b[38;5;124mIPython won\u001b[39m\u001b[38;5;124m'\u001b[39m\u001b[38;5;124mt let you open fd=\u001b[39m\u001b[38;5;132;01m{\u001b[39;00mfile\u001b[38;5;132;01m}\u001b[39;00m\u001b[38;5;124m by default \u001b[39m\u001b[38;5;124m\"\u001b[39m\n\u001b[0;32m    278\u001b[0m         \u001b[38;5;124m\"\u001b[39m\u001b[38;5;124mas it is likely to crash IPython. If you know what you are doing, \u001b[39m\u001b[38;5;124m\"\u001b[39m\n\u001b[0;32m    279\u001b[0m         \u001b[38;5;124m\"\u001b[39m\u001b[38;5;124myou can use builtins\u001b[39m\u001b[38;5;124m'\u001b[39m\u001b[38;5;124m open.\u001b[39m\u001b[38;5;124m\"\u001b[39m\n\u001b[0;32m    280\u001b[0m     )\n\u001b[1;32m--> 282\u001b[0m \u001b[38;5;28;01mreturn\u001b[39;00m io_open(file, \u001b[38;5;241m*\u001b[39margs, \u001b[38;5;241m*\u001b[39m\u001b[38;5;241m*\u001b[39mkwargs)\n",
      "\u001b[1;31mFileNotFoundError\u001b[0m: [Errno 2] No such file or directory: 'nonexistent.txt'"
     ]
    }
   ],
   "source": [
    "file = open('nonexistent.txt', 'r')"
   ]
  },
  {
   "cell_type": "markdown",
   "id": "c392d648",
   "metadata": {},
   "source": [
    "Q10:Encryption is the process of hiding the meaning of a text by substituting letters in the \n",
    "message with other letters, according to some system. If the process is successful, no \n",
    "one but the intended recipient can understand the encrypted message. Cryptanalysis\n",
    "refers to attempts to undo the encryption, even if some details of the encryption are \n",
    "unknown (for example, if an encrypted message has been intercepted). The first step \n",
    "of cryptanalysis is often to build up a table of letter frequencies in the encrypted text. \n",
    "Assume that the string letters is already defined as \n",
    "'abcdefghijklmnopqrstuvwxyz'. Write a function called frequencies()\n",
    "that takes a string as its only parameter, and returns a list of integers, showing the \n",
    "number of times each character appears in the text. Your function may ignore any \n",
    "characters that are not in letters. \n",
    ">>> frequencies('The quick red fox got bored and went home.')\n",
    "[1, 1, 1, 3, 5, 1, 1, 2, 1, 0, 1, 0, 1, 2, 4, 0, 1, 2, 0, 2, \n",
    "1, 0, 1, 1, 0, 0]\n",
    ">>> frequencies('apple'"
   ]
  },
  {
   "cell_type": "code",
   "execution_count": 63,
   "id": "cc80fa62",
   "metadata": {},
   "outputs": [
    {
     "name": "stdout",
     "output_type": "stream",
     "text": [
      "[1, 1, 1, 3, 5, 1, 1, 2, 1, 0, 1, 0, 1, 2, 4, 0, 1, 2, 0, 3, 1, 0, 1, 1, 0, 0]\n",
      "[1, 0, 0, 0, 1, 0, 0, 0, 0, 0, 0, 1, 0, 0, 0, 2, 0, 0, 0, 0, 0, 0, 0, 0, 0, 0]\n"
     ]
    }
   ],
   "source": [
    "def frequencies(text):\n",
    "    letters = 'abcdefghijklmnopqrstuvwxyz'\n",
    "    freq_list = [0] * 26\n",
    "\n",
    "    for char in text.lower():\n",
    "        if char in letters:\n",
    "            index = letters.index(char)\n",
    "            freq_list[index] += 1\n",
    "\n",
    "    return freq_list\n",
    "\n",
    "# Example usage\n",
    "print(frequencies('The quick red fox got bored and went home.'))\n",
    "print(frequencies('apple'))"
   ]
  },
  {
   "cell_type": "code",
   "execution_count": null,
   "id": "35f0730b",
   "metadata": {},
   "outputs": [],
   "source": []
  }
 ],
 "metadata": {
  "kernelspec": {
   "display_name": "Python 3 (ipykernel)",
   "language": "python",
   "name": "python3"
  },
  "language_info": {
   "codemirror_mode": {
    "name": "ipython",
    "version": 3
   },
   "file_extension": ".py",
   "mimetype": "text/x-python",
   "name": "python",
   "nbconvert_exporter": "python",
   "pygments_lexer": "ipython3",
   "version": "3.10.9"
  }
 },
 "nbformat": 4,
 "nbformat_minor": 5
}
